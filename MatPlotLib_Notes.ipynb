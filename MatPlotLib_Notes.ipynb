{
  "nbformat": 4,
  "nbformat_minor": 0,
  "metadata": {
    "colab": {
      "name": "MatPlotLib_Notes",
      "provenance": [],
      "collapsed_sections": [],
      "authorship_tag": "ABX9TyOnhoSzl0rmJF8CSp6DXKlx",
      "include_colab_link": true
    },
    "kernelspec": {
      "name": "python3",
      "display_name": "Python 3"
    }
  },
  "cells": [
    {
      "cell_type": "markdown",
      "metadata": {
        "id": "view-in-github",
        "colab_type": "text"
      },
      "source": [
        "<a href=\"https://colab.research.google.com/github/atharvajpatel/Mission_College-Java_Codes/blob/master/MatPlotLib_Notes.ipynb\" target=\"_parent\"><img src=\"https://colab.research.google.com/assets/colab-badge.svg\" alt=\"Open In Colab\"/></a>"
      ]
    },
    {
      "cell_type": "markdown",
      "metadata": {
        "id": "THY__QAnV0tW",
        "colab_type": "text"
      },
      "source": [
        "https://matplotlib.org/api/_as_gen/matplotlib.pyplot.html\n",
        "\n",
        "This is the link to the documentation of MatPlotLib functions\n"
      ]
    },
    {
      "cell_type": "code",
      "metadata": {
        "id": "NGgK_gXa8Vel",
        "colab_type": "code",
        "colab": {}
      },
      "source": [
        "#Import statements:\n",
        "import matplotlib.pyplot as plt\n",
        "import pandas as pd\n",
        "import numpy as np\n"
      ],
      "execution_count": null,
      "outputs": []
    },
    {
      "cell_type": "code",
      "metadata": {
        "id": "wJinztrENZ3h",
        "colab_type": "code",
        "colab": {
          "base_uri": "https://localhost:8080/",
          "height": 300
        },
        "outputId": "8f24bb59-a873-4787-da67-a3f96bbacaaf"
      },
      "source": [
        "#First graph\n",
        "\n",
        "#plt.plot(x,y). Can be passed as a 1D array as well\n",
        "\n",
        "#best to create them as variables \n",
        "x = [1,2,3,4]\n",
        "y = [2,4,6,8]\n",
        "plt.plot(x,y,label = '2x')\n",
        "#label is a variable which you can use for a legend \n",
        "#Think of it like an id in html and can be used in javascript\n",
        "\n",
        "#To add title: plt.title(String)\n",
        "#Can add second parameter of fontdict = dict. Can contain fontname, fontsize. Check full docs for more\n",
        "#You can either define it inside the statement or create a new dict and access it their\n",
        "fontdict = {\n",
        "    'fontname': 'DejaVu Sans', \n",
        "    'fontsize': 20\n",
        "}\n",
        "plt.title('Our first graph', fontdict)\n",
        "#To add x side label:plt.xlabel(String)\n",
        "plt.xlabel('X-axis')\n",
        "#Same thing for y. To add y side label:plt.ylabel(String)\n",
        "plt.ylabel('Y-axis')\n",
        "\n",
        "#Ticks\n",
        "#To change amount of ticks use this function to change it using xtick or ytick\n",
        "# plt.xticks(list of all tick values)\n",
        "#Regardless of what tick values you put it will display it proportionally\n",
        "plt.xticks(x)\n",
        "plt.yticks([0,1,2,3,4,5,6,7,8])\n",
        "\n",
        "#Making a legend\n",
        "plt.legend()\n",
        "\n",
        "#to get rid of the weird line [<matplotlib ...etc], just do plt.show(). Also must be the last call in the code \n",
        "plt.show()"
      ],
      "execution_count": null,
      "outputs": [
        {
          "output_type": "display_data",
          "data": {
            "image/png": "[encoded data removed]",
            "text/plain": [
              "<Figure size 432x288 with 1 Axes>"
            ]
          },
          "metadata": {
            "tags": [],
            "needs_background": "light"
          }
        }
      ]
    },
    {
      "cell_type": "code",
      "metadata": {
        "id": "S536cfz7VsKC",
        "colab_type": "code",
        "colab": {
          "base_uri": "https://localhost:8080/",
          "height": 283
        },
        "outputId": "e3226d31-2c67-476e-db54-313200832337"
      },
      "source": [
        "#Changing the line\n",
        "\n",
        "#Color\n",
        "#Will make the color of the line whatever is passed in the color. Can also be a straight hexadecimal value\n",
        "#Think of it as a css tag in html  \n",
        "plt.plot(x,y, color ='yellow')\n",
        "\n",
        "plt.show()"
      ],
      "execution_count": null,
      "outputs": [
        {
          "output_type": "execute_result",
          "data": {
            "text/plain": [
              "[<matplotlib.lines.Line2D at 0x7f3402dabc50>]"
            ]
          },
          "metadata": {
            "tags": []
          },
          "execution_count": 40
        },
        {
          "output_type": "display_data",
          "data": {
            "image/png": "[encoded data removed]",
            "text/plain": [
              "<Figure size 432x288 with 1 Axes>"
            ]
          },
          "metadata": {
            "tags": [],
            "needs_background": "light"
          }
        }
      ]
    }
  ]
}